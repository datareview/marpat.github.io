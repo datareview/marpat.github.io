{
 "cells": [
  {
   "cell_type": "markdown",
   "metadata": {},
   "source": [
    "<img src=\"./img/jupyter-sq-text.png\" alt=\"Jupyter_logo\" class=\"img-rounded img-responsive\" height=\"60\" width=\"60\" align=\"left\">\n",
    "<span><br><br><br></span>\n",
    "\n",
    "<h1 align='center' style='margin-bottom: 0px'>Processing Sales Data from Company 1</h1>\n",
    "<h4 align='center' style='margin-top: 0px'> FIRTS LAST NAME</h4>\n",
    "\n",
    "\n",
    "This <span style=\"color:rgba(255,100,0,1)\"><b>Jupyter</b></span> notebook <code>'Sample_ipynb.ipynb'</code> processes .csv files from Company 1 to comma delimited file used for upload to <b>Customer datasystem</b>. Local results are placed into .\\dataout directory. Run from Python environment `Py36` or `main`.\n",
    "\n",
    "<span style=\"font-size: small\">\\* Notebook is writen in Python 3.6</span>"
   ]
  },
  {
   "cell_type": "markdown",
   "metadata": {},
   "source": [
    "___"
   ]
  },
  {
   "cell_type": "markdown",
   "metadata": {},
   "source": [
    "## General imports and styling"
   ]
  },
  {
   "cell_type": "code",
   "execution_count": 10,
   "metadata": {
    "code_folding": [
     0
    ],
    "collapsed": true
   },
   "outputs": [],
   "source": [
    "# 1 General imports and settings \n",
    "\n",
    "%matplotlib inline\n",
    "\n",
    "# System and utility\n",
    "import sys\n",
    "import csv\n",
    "import xlrd\n",
    "import xlsxwriter\n",
    "\n",
    "# IPython \n",
    "import IPython\n",
    "from IPython.core.display import HTML\n",
    "from IPython.display import Image\n",
    "\n",
    "# Data, plots\n",
    "import numpy as np\n",
    "import matplotlib as mpl\n",
    "import matplotlib.pyplot as plt\n",
    "plt.style.use('seaborn-paper') # matplotlib has a set of preferred graph formatting options\n",
    "import seaborn as sns\n",
    "\n",
    "# Date and time\n",
    "import datetime\n",
    "from dateutil import relativedelta as rdelta\n",
    "from datetime import date\n",
    "from datetime import datetime\n",
    "\n",
    "# Pandas\n",
    "import pandas as pd\n",
    "# Pandas options (http://pandas.pydata.org/pandas-docs/stable/options.html)\n",
    "from pandas.tseries.offsets import MonthEnd\n",
    "pd.options.display.max_colwidth = 0  # 0 means max width, else use 10-20-50\n",
    "pd.set_option('display.max_rows', 10)\n",
    "pd.set_option('display.max_columns', 10)\n",
    "pd.set_option('expand_frame_repr', True) # fit columns in output to visible area\n",
    "pd.set_option('float_format', '{:,.2f}'.format) # precicion and format (2,123.45)"
   ]
  },
  {
   "cell_type": "code",
   "execution_count": 34,
   "metadata": {
    "code_folding": [
     0
    ]
   },
   "outputs": [
    {
     "data": {
      "text/html": [
       "@import url(\"custom.css\");\n",
       "\n",
       "<link href='http://fonts.googleapis.com/css?family=Alegreya+Sans:100,300,400,500,700,800,900,100italic,300italic,400italic,500italic,700italic,800italic,900italic' rel='stylesheet' type='text/css'>\n",
       "<link href='http://fonts.googleapis.com/css?family=Arvo:400,700,400italic' rel='stylesheet' type='text/css'>\n",
       "<link href='http://fonts.googleapis.com/css?family=PT+Mono' rel='stylesheet' type='text/css'>\n",
       "<link href='http://fonts.googleapis.com/css?family=Shadows+Into+Light' rel='stylesheet' type='text/css'>\n",
       "<link href='http://fonts.googleapis.com/css?family=Philosopher:400,700,400italic,700italic' rel='stylesheet' type='text/css'>\n",
       "\n",
       "<style>\n",
       "\n",
       "@font-face {\n",
       "    font-family: \"Computer Modern\";\n",
       "    src: url('http://mirrors.ctan.org/fonts/cm-unicode/fonts/otf/cmunss.otf');\n",
       "}\n",
       "body {\n",
       "    margin: 0;\n",
       "    font-family: Helvetica;\n",
       "}\n",
       "em {\ttext-decoration: underline;\n",
       "\tcolor: rgba(136,0,34,0.8);\n",
       "}\n",
       "\n",
       "/*the width, font, and size of text in Markdown cells*/\n",
       "div.text_cell_render{\n",
       "    font-family: 'Arvo' sans-serif;\n",
       "    line-height: 130%;\n",
       "    font-size: 115%;\n",
       "/*    width:800px;  /* Divider line */\n",
       "/*    margin-left:auto;\n",
       "    margin-right:auto; \n",
       "*/\n",
       "}\n",
       "/* Formatting for header cells */\n",
       ".text_cell_render h1 {\n",
       "    font-family: 'Philosopher', sans-serif;\n",
       "    font-weight: 400;\n",
       "    font-size: 32pt;\n",
       "    line-height: 100%;\n",
       "    color: rgb(12,85,97);\n",
       "    margin-bottom: 0.1em;\n",
       "    margin-top: 0.1em;\n",
       "    display: block;\n",
       "}\n",
       ".text_cell_render h2 {\n",
       "    font-family: 'Philosopher', serif;\n",
       "    font-weight: 700;\n",
       "    font-size: 24pt;\n",
       "    line-height: 100%;\n",
       "    color: rgb(171,165,131);\n",
       "    margin-bottom: 0.1em;\n",
       "    margin-top: 0.1em;\n",
       "    display: block;\n",
       "}    \n",
       "\n",
       ".text_cell_render h3 {\n",
       "    font-family: 'Philosopher', serif;\n",
       "    margin-top:12px;\n",
       "    margin-bottom: 3px;\n",
       "    font-style: italic;\n",
       "    color: rgb(95,92,72);\n",
       "}\n",
       "\n",
       ".text_cell_render h4 {\n",
       "    font-family: 'Philosopher', serif;\n",
       "}\n",
       "\n",
       ".text_cell_render h5 {\n",
       "    font-family: 'Alegreya Sans', sans-serif;\n",
       "    font-weight: 300;\n",
       "    font-size: 16pt;\n",
       "    color: grey;\n",
       "    font-style: italic;\n",
       "    margin-bottom: .1em;\n",
       "    margin-top: 0.1em;\n",
       "    display: block;\n",
       "}\n",
       "\n",
       ".text_cell_render h6 {\n",
       "    font-family: 'PT Mono', sans-serif;\n",
       "    font-weight: 300;\n",
       "    font-size: 10pt;\n",
       "    color: grey;\n",
       "    margin-bottom: 1px;\n",
       "    margin-top: 1px;\n",
       "}\n",
       "\n",
       "div.output_area .rendered_html table {\n",
       "/*  margin: 20px auto 0 auto; */\n",
       "}\n",
       "\n",
       "/* tables */\n",
       ".rendered_html table {\n",
       "font-size: 14px !important;\n",
       "font-family: monospace;\n",
       "}\n",
       "\n",
       "table.dataframe thead:first-child > tr:first-child > th {\n",
       "font-weight: bold;\n",
       "text-align:center;\n",
       "}\n",
       "\n",
       "table.dataframe {\n",
       "    border-collapse: collapse;\n",
       "    border: none;\n",
       "}\n",
       "table.dataframe thead{\n",
       "background-color: #fec;\n",
       "}\n",
       "\n",
       "table.dataframe tr {\n",
       "    border: none;\n",
       "}\n",
       "table.dataframe td, table.dataframe th {\n",
       "    margin: 0;\n",
       "    border: 1px solid white;\n",
       "    padding-left: 0.25em;\n",
       "    padding-right: 0.25em;\n",
       "}\n",
       "table.dataframe th:not(:empty) {\n",
       "    background-color: #fec;\n",
       "    text-align: left;\n",
       "    font-weight: normal;\n",
       "}\n",
       "table.dataframe tr:nth-child(2) th:empty {\n",
       "    border-left: none;\n",
       "    border-right: 1px dashed #888;\n",
       "}\n",
       "table.dataframe td {\n",
       "    border: 2px solid #ccf;\n",
       "    background-color: #f4f4ff;\n",
       "}\n",
       "\n",
       ".widget-select {\n",
       "    width: 500px;\n",
       "}\n",
       "code {\n",
       "\tpadding: 2px 4px;\n",
       "\tfont-size: 90%;\n",
       "\tcolor: #c7254e!important;\n",
       "\tbackground-color: #f9f2f4!important;\n",
       "\tborder-radius: 4px;\n",
       "\tfont-family: Menlo,Monaco,Consolas,\"Courier New\",monospace;\n",
       "}\n",
       "pre,\n",
       "blockquote {\n",
       "    border: 1px solid #999;\n",
       "    page-break-inside: avoid;\n",
       "  }\n",
       ".indent {\n",
       "   text-indent: 50px;\n",
       "   margin-top: 30px!important;\n",
       "}\n",
       "/* Important to close style section in Jupyter notebook*/\n",
       "</style>"
      ],
      "text/plain": [
       "<IPython.core.display.HTML object>"
      ]
     },
     "execution_count": 34,
     "metadata": {},
     "output_type": "execute_result"
    }
   ],
   "source": [
    "#2 Style with the main css template \n",
    "\n",
    "css_file = './css/custom.css'\n",
    "HTML(open(css_file, \"r\").read())"
   ]
  },
  {
   "cell_type": "markdown",
   "metadata": {},
   "source": [
    "<h3>Run once for Notebook html-js output <span class='label label-default'>NOTE</span></h3>"
   ]
  },
  {
   "cell_type": "code",
   "execution_count": 7,
   "metadata": {
    "code_folding": [
     0
    ]
   },
   "outputs": [
    {
     "data": {
      "text/html": [
       "<script>jQuery(function() {if (jQuery(\"body.notebook_app\").length == 0) { jQuery(\".input_area, .output_stderr\").toggle(); jQuery(\".prompt\").toggle();}});</script>"
      ]
     },
     "metadata": {},
     "output_type": "display_data"
    },
    {
     "data": {
      "text/html": [
       "<button onclick=\"jQuery('.input_area').toggle(); jQuery('.prompt').toggle();\">Click in rendered .html output only, toggles the code</button>"
      ]
     },
     "metadata": {},
     "output_type": "display_data"
    }
   ],
   "source": [
    "#                 Run (once) to allow nice html output as report (optional) \n",
    "\n",
    "\n",
    "\"\"\"\n",
    "Hide code cells in an IPython notebook or exported HTML using javascript. \n",
    "Taken from Max Masnick's answer in \n",
    "http://stackoverflow.com/questions/27934885/how-to-hide-code-from-cells-in-ipython-notebook-visualized-with-nbviewer.\n",
    "\"\"\"\n",
    "\n",
    "# Example: di.display_html('<h3>%s:</h3>' % str, raw=True)\n",
    "import IPython.core.display as di\n",
    "\n",
    "# This line will hide code by default when the notebook is exported as HTML\n",
    "di.display_html(\n",
    "    '<script>jQuery(function() {if (jQuery(\"body.notebook_app\").length == 0) { jQuery(\".input_area, .output_stderr\").toggle(); jQuery(\".prompt\").toggle();}});</script>', raw=True)\n",
    "\n",
    "CSS = \"\"\".input_area .output_stderr {height: 2.0em; overflow: hidden}\"\"\"  # changes input_subarea width to 1 visible line\n",
    "HTML('<style>{}</style>'.format(CSS))\n",
    "\n",
    "# This line will add a button to toggle visibility of code blocks, for use with the HTML export version\n",
    "di.display_html('''<button onclick=\"jQuery('.input_area').toggle(); jQuery('.prompt').toggle();\">Click in rendered .html output only, toggles the code</button>''', raw=True)"
   ]
  },
  {
   "cell_type": "markdown",
   "metadata": {},
   "source": [
    "## Process raw csv file and format columns"
   ]
  },
  {
   "cell_type": "code",
   "execution_count": 29,
   "metadata": {
    "code_folding": [
     0
    ]
   },
   "outputs": [
    {
     "name": "stdout",
     "output_type": "stream",
     "text": [
      "\n",
      "Figure 1. Lists and Dictionary.\n"
     ]
    },
    {
     "data": {
      "text/html": [
       "<div>\n",
       "<style>\n",
       "    .dataframe thead tr:only-child th {\n",
       "        text-align: right;\n",
       "    }\n",
       "\n",
       "    .dataframe thead th {\n",
       "        text-align: left;\n",
       "    }\n",
       "\n",
       "    .dataframe tbody tr th {\n",
       "        vertical-align: top;\n",
       "    }\n",
       "</style>\n",
       "<table border=\"1\" class=\"dataframe\">\n",
       "  <thead>\n",
       "    <tr style=\"text-align: right;\">\n",
       "      <th></th>\n",
       "      <th>Date</th>\n",
       "      <th>Person</th>\n",
       "      <th>Hours</th>\n",
       "    </tr>\n",
       "  </thead>\n",
       "  <tbody>\n",
       "    <tr>\n",
       "      <th>0</th>\n",
       "      <td>30-Apr-17</td>\n",
       "      <td>Schmidt, Jack</td>\n",
       "      <td>40.00</td>\n",
       "    </tr>\n",
       "    <tr>\n",
       "      <th>1</th>\n",
       "      <td>31-May-17</td>\n",
       "      <td>Green, Paul</td>\n",
       "      <td>30.00</td>\n",
       "    </tr>\n",
       "    <tr>\n",
       "      <th>2</th>\n",
       "      <td>Jun-30-17</td>\n",
       "      <td>O'Connell, Nick</td>\n",
       "      <td>20.00</td>\n",
       "    </tr>\n",
       "  </tbody>\n",
       "</table>\n",
       "</div>"
      ],
      "text/plain": [
       "        Date           Person  Hours\n",
       "0  30-Apr-17  Schmidt, Jack   40.00 \n",
       "1  31-May-17  Green, Paul     30.00 \n",
       "2  Jun-30-17  O'Connell, Nick 20.00 "
      ]
     },
     "execution_count": 29,
     "metadata": {},
     "output_type": "execute_result"
    }
   ],
   "source": [
    "# Create corresponding DataFrames from above result_list \n",
    "\n",
    "# From lists as series and dictionary \n",
    "# keys are column names, values are data in the list\n",
    "\n",
    "# note the mixed date format\n",
    "Col1 = ['30-Apr-17', '31-May-17', 'Jun-30-17']  \n",
    "# note the escape at apostrophe\n",
    "Col2 = ['Schmidt, Jack', 'Green, Paul',\n",
    "        'O\\'Connell, Nick']  \n",
    "# float values will be inferred\n",
    "Col3 = [40.0, 30, 20]\n",
    "\n",
    "date_name = {'Date': Col1, 'Person': Col2, 'Hours': Col3} ## 0.2ms\n",
    "\n",
    "print(\"\\nFigure 1. Lists and Dictionary.\")\n",
    "# If we pass columns=[] parameter, DataFrame's columns will be sorted accordingly\n",
    "df = pd.DataFrame(date_name, columns=['Date', 'Person', 'Hours'])\n",
    "df\n",
    "# The same effect can be accomplished by adding sorted list of columns to DataFrame[]\n",
    "# pd.DataFrame(date_name)[['Date', 'Person', 'Hours']]"
   ]
  },
  {
   "cell_type": "code",
   "execution_count": 32,
   "metadata": {
    "collapsed": true
   },
   "outputs": [],
   "source": [
    "# Create output with template. Input is removed\n",
    "\n",
    "from nbconvert import HTMLExporter\n",
    "import codecs\n",
    "import os\n",
    "\n",
    "stamp = datetime.today().strftime(\"%m_%d_%Y\")\n",
    "\n",
    "exporter = HTMLExporter(template_file='report.tpl')\n",
    "output, resources = exporter.from_filename('Sample_ipynb.ipynb')\n",
    "new_fnm = stamp + '_sample_report.html'\n",
    "codecs.open(new_fnm, 'w', encoding='utf-8').write(output)"
   ]
  },
  {
   "cell_type": "code",
   "execution_count": 33,
   "metadata": {
    "code_folding": [
     0
    ]
   },
   "outputs": [],
   "source": [
    "# Delete B&W intruction in css section \n",
    "\n",
    "program = open(new_fnm, \"r\")\n",
    "lines = program.readlines()\n",
    "program.close()\n",
    "\n",
    "f = open(stamp + '_sample_report_print.html', \"w\")\n",
    "\n",
    "for line in lines:\n",
    "    if not line.startswith('    color: #000 !important'):\n",
    "        f.write(line)\n",
    "\n",
    "f.close()\n",
    "\n",
    "os.remove(new_fnm)"
   ]
  },
  {
   "cell_type": "markdown",
   "metadata": {
    "collapsed": true
   },
   "source": [
    "_____\n",
    "\n",
    "<span style=\"font-size: 12px\"><i>Jupyter Notebook **Sample_ipynb.ipynb**:<br>\n",
    "version 1.0 created on Aug 11, 2017<br>\n",
    "</i></span>"
   ]
  }
 ],
 "metadata": {
  "kernelspec": {
   "display_name": "Python 3",
   "language": "python",
   "name": "python3"
  },
  "language_info": {
   "codemirror_mode": {
    "name": "ipython",
    "version": 3
   },
   "file_extension": ".py",
   "mimetype": "text/x-python",
   "name": "python",
   "nbconvert_exporter": "python",
   "pygments_lexer": "ipython3",
   "version": "3.6.1"
  }
 },
 "nbformat": 4,
 "nbformat_minor": 2
}
