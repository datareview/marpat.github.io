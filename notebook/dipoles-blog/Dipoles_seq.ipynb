{
 "metadata": {
  "name": "",
  "signature": "sha256:efcf45a41b76a3c5f7e0dd1d1a4368ffc69a21a1b9408d92c6b7e8ca29101d99"
 },
 "nbformat": 3,
 "nbformat_minor": 0,
 "worksheets": [
  {
   "cells": [
    {
     "cell_type": "heading",
     "level": 1,
     "metadata": {},
     "source": [
      "Natural Dipole Analysis"
     ]
    },
    {
     "cell_type": "markdown",
     "metadata": {},
     "source": [
      "This notebook discusses Python code for analysis of Natural dipole moment and its components as described in section **6.2.2** of the [\"<i>Discovering Chemistry with Natural Bond Orbitals</i>\" (Frank Weinhold, Clark R, Landis, Wiley, 2012, p.150.](http://books.google.com/books/about/Discovering_Chemistry_With_Natural_Bond.html?id=y68Cs32WNI0C) We will attempt to reproduce NLMO vector addition shown in Figure 6.7. <br><br>\n",
      "In the \"*DIPOLE MOMENT ANALYSIS:*\" section, the standard NBO output file contains individual x,y,z-components and length of the total molecular dipole moment. Each of the entries is decomposed into the individual contributions of NLMO and NBO bond dipoles. On the example of formamide, we are going to extract those lines and build a vector (NLMO) representation of the total molecular dipole.\n",
      "\n",
      "Similar method using Java-based KNIME platform is described [here](http://bit.ly/1GzVcFV)."
     ]
    },
    {
     "cell_type": "markdown",
     "metadata": {},
     "source": [
      "![Formamide](./img/form.png) <span style=\"color:blue; margin-left: 290px\">Planar geometry of formamide</span>"
     ]
    },
    {
     "cell_type": "markdown",
     "metadata": {},
     "source": [
      "<br><span style=\"color:rgba(200,100,0,1); font-size:20px\">**Electric Dipole**</span><br><br>\n",
      "Electric dipole moment is the most fundamental quantity related to the charge distribution in a molecule. It reflects the degree to which positive and negative charge is distributed relative to one another. Dipole moment is a vector quantity characterized by its scalar magnitude, sign, and direction. Accordingly, the dipole can be described by its vector **\u03bc** directed from the negative to the positive charge. Magnitude of the dipole moment is defined as:<br><br> $$\\mu = |q|*R,$$ <br>where **q** is charge and **R** is the displacement vector pointing from the **negative** to **positive** charge. The net dipole moment of a molecule can be conceptually described as a vector sum of the individual moments.<br>\n",
      "This is what we will attempt to do in the following cells."
     ]
    },
    {
     "cell_type": "markdown",
     "metadata": {},
     "source": [
      "________"
     ]
    },
    {
     "cell_type": "code",
     "collapsed": false,
     "input": [
      "'''First, the custom styling. File *.css injects the contents of css_file in the \n",
      "header of the notebook's HTML file. Other css files are in the ./css directory'''\n",
      "# to (de)activate line numbering pres Esc while in cell followed by l (lower L)\n",
      "\n",
      "'''Sanity check since we are changing directories and *.css file path\n",
      "would be incorrect upon cell re-run'''\n",
      "from IPython.core.display import HTML\n",
      "import string,sys,os,os.path,re\n",
      "css_file = './css/blue.css'\n",
      "if os.path.isfile(css_file):\n",
      "    css_file\n",
      "else:\n",
      "    %cd ..\n",
      "HTML(open(css_file, \"r\").read())"
     ],
     "language": "python",
     "metadata": {},
     "outputs": [
      {
       "html": [
        "<link href='http://fonts.googleapis.com/css?family=Alegreya+Sans:100,300,400,500,700,800,900,100italic,300italic,400italic,500italic,700italic,800italic,900italic' rel='stylesheet' type='text/css'>\n",
        "<link href='http://fonts.googleapis.com/css?family=Arvo:400,700,400italic' rel='stylesheet' type='text/css'>\n",
        "<link href='http://fonts.googleapis.com/css?family=PT+Mono' rel='stylesheet' type='text/css'>\n",
        "<link href='http://fonts.googleapis.com/css?family=Shadows+Into+Light' rel='stylesheet' type='text/css'>\n",
        "<link href='http://fonts.googleapis.com/css?family=Philosopher:400,700,400italic,700italic' rel='stylesheet' type='text/css'>\n",
        "\n",
        "<style>\n",
        "\n",
        "@font-face {\n",
        "    font-family: \"Computer Modern\";\n",
        "    src: url('http://mirrors.ctan.org/fonts/cm-unicode/fonts/otf/cmunss.otf');\n",
        "}\n",
        "\n",
        "em {\ttext-decoration: underline;\n",
        "\tcolor: rgba(136,0,34,0.8);\n",
        "}\n",
        "\n",
        "#notebook_panel { /* main background */\n",
        "    background: #C3C3C3;\n",
        "    color: #f6f6f6;\n",
        "}\n",
        "\n",
        "div.cell { /* set cell width to about 80 chars */\n",
        "    width: 900px;\n",
        "}\n",
        "div #notebook { /* centre the content */\n",
        "    background: #fff; /* white background for content */\n",
        "    width: 1000px;\n",
        "    margin: auto;\n",
        "    padding-left: 1em;\n",
        "}\n",
        "#notebook li { /* More space between bullet points */\n",
        "margin-top:0.8em;\n",
        "}\n",
        "/* draw border around running cells */\n",
        "div.cell.border-box-sizing.code_cell.running {\n",
        "    border: 3px solid #887DA3;\n",
        "}\n",
        "/* draw border around last active cells */\n",
        "div.cell.selected {\n",
        "\tborder: thin solid #5E68D2 !important;\n",
        "}\n",
        "/* Put a solid color box around each cell and its output, visually linking them together */\n",
        "div.cell.code_cell {\n",
        "    background-color: rgba(0,93,159,0.1); /*171,165,131,0.3,  159,115,0, 0.3*/\n",
        "    border-radius: 10px; /* rounded borders */\n",
        "    padding: 1em;\n",
        "    margin-top: 1em;\n",
        "    margin-left: 2.5em;\n",
        "}\n",
        "/*the width, font, and size of text in Markdown cells*/\n",
        "div.text_cell_render{\n",
        "    font-family: 'Arvo' sans-serif;\n",
        "    line-height: 130%;\n",
        "    font-size: 115%;\n",
        "    width:800px;  /* Divider line */\n",
        "    margin-left:auto;\n",
        "    margin-right:auto;\n",
        "}\n",
        "/* Formatting for header cells */\n",
        ".text_cell_render h1 {\n",
        "    font-family: 'Philosopher', sans-serif;\n",
        "    font-weight: 400;\n",
        "    font-size: 32pt;\n",
        "    line-height: 100%;\n",
        "    color: rgb(12,85,97);\n",
        "    margin-bottom: 0.1em;\n",
        "    margin-top: 0.1em;\n",
        "    display: block;\n",
        "}\n",
        ".text_cell_render h2 {\n",
        "    font-family: 'Philosopher', serif;\n",
        "    font-weight: 700;\n",
        "    font-size: 24pt;\n",
        "    line-height: 100%;\n",
        "    color: rgb(171,165,131);\n",
        "    margin-bottom: 0.1em;\n",
        "    margin-top: 0.1em;\n",
        "    display: block;\n",
        "}    \n",
        "\n",
        ".text_cell_render h3 {\n",
        "    font-family: 'Philosopher', serif;\n",
        "    margin-top:12px;\n",
        "    margin-bottom: 3px;\n",
        "    font-style: italic;\n",
        "    color: rgb(95,92,72);\n",
        "}\n",
        "\n",
        ".text_cell_render h4 {\n",
        "    font-family: 'Philosopher', serif;\n",
        "}\n",
        "\n",
        ".text_cell_render h5 {\n",
        "    font-family: 'Alegreya Sans', sans-serif;\n",
        "    font-weight: 300;\n",
        "    font-size: 16pt;\n",
        "    color: grey;\n",
        "    font-style: italic;\n",
        "    margin-bottom: .1em;\n",
        "    margin-top: 0.1em;\n",
        "    display: block;\n",
        "}\n",
        "\n",
        ".text_cell_render h6 {\n",
        "    font-family: 'PT Mono', sans-serif;\n",
        "    font-weight: 300;\n",
        "    font-size: 10pt;\n",
        "    color: grey;\n",
        "    margin-bottom: 1px;\n",
        "    margin-top: 1px;\n",
        "}\n",
        "/*CodeMirror (a webservice) for syntax highlighting of code*/\n",
        ".CodeMirror{\n",
        "        font-family: \"PT Mono\";\n",
        "        font-size: 100%;\n",
        "}\n",
        "\n",
        "/*Tables*/\n",
        "table.grid {\n",
        "\tfont-family: verdana,arial,sans-serif;\n",
        "\tfont-size:11px;\n",
        "\tcolor:#333333;\n",
        "\tborder-width: 1px;\n",
        "\tborder-color: #666666;\n",
        "\tborder-collapse: collapse;\n",
        "}\n",
        "table.grid th {\n",
        "\tborder-width: 1px;\n",
        "\tpadding: 8px;\n",
        "\tborder-style: solid;\n",
        "\tborder-color: #666666;\n",
        "\tbackground-color: #dedede;\n",
        "}\n",
        "table.grid td {\n",
        "\tborder-width: 1px;\n",
        "\tpadding: 8px;\n",
        "\tborder-style: solid;\n",
        "\tborder-color: #666666;\n",
        "\tbackground-color: #ffffff;\n",
        "\ttext-align: center;\n",
        "}\n",
        "\n",
        "div.output_area .rendered_html table {\n",
        "margin: 20px auto 0 auto;\n",
        "}\n",
        "\n",
        "\n",
        "/* Latex*/\n",
        ".MathJax_Display {\n",
        "color: rgba(0,0,255,1);\n",
        "}\n",
        "</style>"
       ],
       "metadata": {},
       "output_type": "pyout",
       "prompt_number": 2,
       "text": [
        "<IPython.core.display.HTML at 0x648baf0>"
       ]
      }
     ],
     "prompt_number": 2
    },
    {
     "cell_type": "code",
     "collapsed": false,
     "input": [
      "import pandas as pd\n",
      "import numpy as np\n",
      "import matplotlib.pyplot as plt\n",
      "from matplotlib.patches import FancyArrowPatch\n",
      "from pylab import *\n",
      "from plot_dip import plot_dip  # Python file plot_dip.py must be in the same directory\n",
      "%matplotlib inline\n",
      "# Pandas options\n",
      "pd.set_option('display.max_columns', 14)\n",
      "pd.set_option('display.width', 300)\n",
      "#pd.set_option('display.mpl_style', 'default')  # enable for nicer plots\n",
      "rcParams['figure.figsize'] = (6, 6)\n",
      "pd.set_option(\"max_columns\", 14)"
     ],
     "language": "python",
     "metadata": {},
     "outputs": [],
     "prompt_number": 3
    },
    {
     "cell_type": "code",
     "collapsed": false,
     "input": [
      "# Step into the directory of input .csv files using the magic %cd\n",
      "# Make sure that we are not already in the 'dipoles' dir from the previous run\n",
      "if os.path.isdir('dipoles'):\n",
      "    %cd dipoles\n",
      "else:\n",
      "    %cd ..\n",
      "    %cd dipoles\n",
      "#%cd dipoles"
     ],
     "language": "python",
     "metadata": {},
     "outputs": [
      {
       "output_type": "stream",
       "stream": "stdout",
       "text": [
        "C:\\Users\\Rubidium\\Documents\\IPython Notebooks\\blog\\dipoles\n"
       ]
      }
     ],
     "prompt_number": 4
    },
    {
     "cell_type": "markdown",
     "metadata": {},
     "source": [
      "---------\n",
      "In the next step, coordinates of NLMO dipoles are read from _form_dip.csv_ file shown below.<br> \n",
      "![csv input file](./img/dipole_csv.png \"NBO csv input file\")\n",
      "<br>This file was generated earlier from the NBO output from the KNIME \"Dipole_v2/3\"    [workflow](http://bit.ly/1GzVcFV).<br> \n",
      "-    Alternatively, iPython notebook <span style=\"color:rgba(255,100,0,1)\">ReadNboDip.ipynb</span> at this [Github repository](http://bit.ly/1ztVa1C) creates identical .csv input file. \n",
      "-    \"Plain\" Python script (<span style=\"color:rgba(180,100,0,1)\">ReadNboDip.py</span>) parses NBO output files for the same <i>Dipole moment summary</i> - download it from [Github repository](http://bit.ly/142ZKWZ).<br>\n",
      "\n",
      "First, we will create a dataframe **df** by reading the form_dip.csv file. To set an arbitrary origin of dipoles, zero values (zeroes) are inserted at the top of the dataframe (line 15; press Esc+l (L)). Column values are assigned int, float, or string types, respectively.\n",
      "\n",
      "---------"
     ]
    },
    {
     "cell_type": "code",
     "collapsed": false,
     "input": [
      "# Input file can be generated in ReadNboDip.ipynb notebook\n",
      "infile = 'form_dip.csv'  # in directory /dipoles\n",
      "# Save the file path, name and extension\n",
      "fullpath =  os.path.abspath(infile)\n",
      "path,file=os.path.split(fullpath)\n",
      "basename, extension = os.path.splitext(infile)\n",
      "\n",
      "# Create dataframe from the *.csv file\n",
      "df = pd.read_csv(infile)\n",
      "# fix datatype for columns\n",
      "df.convert_objects(convert_numeric=True).dtypes \n",
      "\n",
      "# Prepare first blank row with XYZ=0 to set the point of vector origin\n",
      "# set the first row to zeroes\n",
      "rowex = df.loc[[0]] \n",
      "# Get dataframe column headers\n",
      "headers = df.columns.values.tolist()\n",
      "# Fix the data types\n",
      "for item in headers:\n",
      "    if df.dtypes[item] == 'float64' :\n",
      "        rowex[item] = 0.\n",
      "    elif df.dtypes[item] == 'int64' :\n",
      "        rowex[item] = 0\n",
      "    else :\n",
      "        rowex[item] = ''\n",
      "row0 = rowex"
     ],
     "language": "python",
     "metadata": {},
     "outputs": [],
     "prompt_number": 5
    },
    {
     "cell_type": "code",
     "collapsed": false,
     "input": [
      "# Reassemble data table placing row0 at the top, followed by the rest.\n",
      "# Create new dataframe df2\n",
      "df2 = pd.concat([row0, df])# .reset_index().ix[::]\n",
      "# print df2"
     ],
     "language": "python",
     "metadata": {},
     "outputs": [],
     "prompt_number": 6
    },
    {
     "cell_type": "code",
     "collapsed": false,
     "input": [
      "\"\"\" Identify which column (coord) has constant values (orthogonal to the molecular plane).\n",
      "\"\"\"\n",
      "# Prepare stds of absolute values for each x,y,z column\n",
      "# Smallest stds indicate constant dimension (-> 2D plane in other two coordinates)\n",
      "C1 = df2[\"X\"].abs()\n",
      "C1std = C1.std()\n",
      "C2 = df2[\"Y\"].abs()\n",
      "C2std = C2.std()\n",
      "C3 = df2[\"Z\"].abs()\n",
      "C3std = C3.std()\n",
      "# print \"stds are: %.3f %.3f %.3f\" % (C1std, C2std, C3std)"
     ],
     "language": "python",
     "metadata": {},
     "outputs": [],
     "prompt_number": 7
    },
    {
     "cell_type": "code",
     "collapsed": false,
     "input": [
      "def coord_headers(C1std, C2std, C3std):\n",
      "    \"\"\"\n",
      "    Define X,Y coordinates only (Z=0). Any of the X,Y,Z can be constant or \n",
      "    zero 0 (which one may vary each time). Remap coordinates arbitrarily to X,Y,Z[const].\n",
      " \n",
      "    :type C1std, C2std, C3std: dataframe column series\n",
      "    :param C1std, C2std, C3std: XYZ-coordinates of dipole moment.\n",
      " \n",
      "    :rtype: float\n",
      "    :return: dataframe column series\n",
      "    \"\"\"\n",
      "    if C1std > 0.1 and C2std > 0.1 > C3std:\n",
      "        df2['newX'] = df2[\"X\"]\n",
      "        df2['newY'] = df2[\"Y\"]\n",
      "    elif C1std > 0.1 > C2std and C3std > 0.1:\n",
      "        df2['newX'] = df2[\"X\"]\n",
      "        df2['newY'] = df2[\"Z\"]\n",
      "    elif C1std < 0.1 < C2std and C3std > 0.1:\n",
      "        df2['newX'] = df2[\"Y\"]\n",
      "        df2['newY'] = df2[\"Z\"]\n",
      "    else:\n",
      "        df2['newX'] = df2[\"X\"]\n",
      "        df2['newY'] = df2[\"Y\"]"
     ],
     "language": "python",
     "metadata": {},
     "outputs": [],
     "prompt_number": 8
    },
    {
     "cell_type": "code",
     "collapsed": false,
     "input": [
      "# Append newX,newY columns to df2 (values are often same as the original X,Y)\n",
      "coord_headers(C1std, C2std, C3std)\n",
      "\n",
      "# Remove rows with CR (core) orbitals\n",
      "df2 = df2[~df2['Type'].str.contains(\"CR\")]\n",
      "# Change \"Type\" to describe bonds and LPs in LaTeX\n",
      "df2 = df2.replace(\"BD \\( 2\", \"BD ($\\sigma$\", regex=True) \n",
      "df2 = df2.replace(\"LP \\( 1\", \"LP (n\", regex=True)\n",
      "df2 = df2.replace(\"LP \\( 2\", \"LP ($\\pi^y$\", regex=True)\n",
      "\n",
      "# Custom dictionary NLMO:rank\n",
      "custom_dict = {0:0,11:1,10:2,5:3,4:4,6:5,12:6,7:7,9:8,8:9}  \n",
      "df2['rank'] = df2['NLMO'].map(custom_dict)\n",
      "df2 = df2.sort(columns=['rank'])\n",
      "# Reindex new dataframe df21\n",
      "df21 = df2.drop(['rank'],axis=1).reset_index().ix[::]\n",
      "HTML(df21.to_html(classes = 'grid', escape=False))"
     ],
     "language": "python",
     "metadata": {},
     "outputs": [
      {
       "html": [
        "<table border=\"1\" class=\"dataframe grid\">\n",
        "  <thead>\n",
        "    <tr style=\"text-align: right;\">\n",
        "      <th></th>\n",
        "      <th>index</th>\n",
        "      <th>NLMO</th>\n",
        "      <th>Type</th>\n",
        "      <th>X</th>\n",
        "      <th>Y</th>\n",
        "      <th>Z</th>\n",
        "      <th>Tot_Dip</th>\n",
        "      <th>newX</th>\n",
        "      <th>newY</th>\n",
        "    </tr>\n",
        "  </thead>\n",
        "  <tbody>\n",
        "    <tr>\n",
        "      <th>0</th>\n",
        "      <td>  0</td>\n",
        "      <td>  0</td>\n",
        "      <td>                       </td>\n",
        "      <td> 0.00</td>\n",
        "      <td> 0</td>\n",
        "      <td> 0.00</td>\n",
        "      <td> 0.00</td>\n",
        "      <td> 0.00</td>\n",
        "      <td> 0.00</td>\n",
        "    </tr>\n",
        "    <tr>\n",
        "      <th>1</th>\n",
        "      <td> 10</td>\n",
        "      <td> 11</td>\n",
        "      <td> BD ($\\sigma$) C 2- O 3</td>\n",
        "      <td>-0.67</td>\n",
        "      <td> 0</td>\n",
        "      <td>-0.46</td>\n",
        "      <td> 0.81</td>\n",
        "      <td>-0.67</td>\n",
        "      <td>-0.46</td>\n",
        "    </tr>\n",
        "    <tr>\n",
        "      <th>2</th>\n",
        "      <td>  9</td>\n",
        "      <td> 10</td>\n",
        "      <td>       BD ( 1) C 2- O 3</td>\n",
        "      <td>-1.90</td>\n",
        "      <td> 0</td>\n",
        "      <td>-1.44</td>\n",
        "      <td> 2.38</td>\n",
        "      <td>-1.90</td>\n",
        "      <td>-1.44</td>\n",
        "    </tr>\n",
        "    <tr>\n",
        "      <th>3</th>\n",
        "      <td>  4</td>\n",
        "      <td>  5</td>\n",
        "      <td>             LP (n) O 3</td>\n",
        "      <td>-2.37</td>\n",
        "      <td> 0</td>\n",
        "      <td>-1.64</td>\n",
        "      <td> 2.88</td>\n",
        "      <td>-2.37</td>\n",
        "      <td>-1.64</td>\n",
        "    </tr>\n",
        "    <tr>\n",
        "      <th>4</th>\n",
        "      <td>  3</td>\n",
        "      <td>  4</td>\n",
        "      <td>             LP (n) N 1</td>\n",
        "      <td>-0.20</td>\n",
        "      <td> 0</td>\n",
        "      <td>-1.64</td>\n",
        "      <td> 1.65</td>\n",
        "      <td>-0.20</td>\n",
        "      <td>-1.64</td>\n",
        "    </tr>\n",
        "    <tr>\n",
        "      <th>5</th>\n",
        "      <td>  5</td>\n",
        "      <td>  6</td>\n",
        "      <td>       LP ($\\pi^y$) O 3</td>\n",
        "      <td> 0.89</td>\n",
        "      <td> 0</td>\n",
        "      <td> 0.75</td>\n",
        "      <td> 1.16</td>\n",
        "      <td> 0.89</td>\n",
        "      <td> 0.75</td>\n",
        "    </tr>\n",
        "    <tr>\n",
        "      <th>6</th>\n",
        "      <td> 11</td>\n",
        "      <td> 12</td>\n",
        "      <td>       BD ( 1) C 2- H 6</td>\n",
        "      <td> 1.72</td>\n",
        "      <td> 0</td>\n",
        "      <td>-0.58</td>\n",
        "      <td> 1.82</td>\n",
        "      <td> 1.72</td>\n",
        "      <td>-0.58</td>\n",
        "    </tr>\n",
        "    <tr>\n",
        "      <th>7</th>\n",
        "      <td>  6</td>\n",
        "      <td>  7</td>\n",
        "      <td>       BD ( 1) N 1- C 2</td>\n",
        "      <td> 0.02</td>\n",
        "      <td> 0</td>\n",
        "      <td> 0.85</td>\n",
        "      <td> 0.85</td>\n",
        "      <td> 0.02</td>\n",
        "      <td> 0.85</td>\n",
        "    </tr>\n",
        "    <tr>\n",
        "      <th>8</th>\n",
        "      <td>  8</td>\n",
        "      <td>  9</td>\n",
        "      <td>       BD ( 1) N 1- H 5</td>\n",
        "      <td> 0.75</td>\n",
        "      <td> 0</td>\n",
        "      <td> 0.46</td>\n",
        "      <td> 0.88</td>\n",
        "      <td> 0.75</td>\n",
        "      <td> 0.46</td>\n",
        "    </tr>\n",
        "    <tr>\n",
        "      <th>9</th>\n",
        "      <td>  7</td>\n",
        "      <td>  8</td>\n",
        "      <td>       BD ( 1) N 1- H 4</td>\n",
        "      <td>-0.68</td>\n",
        "      <td> 0</td>\n",
        "      <td> 0.47</td>\n",
        "      <td> 0.82</td>\n",
        "      <td>-0.68</td>\n",
        "      <td> 0.47</td>\n",
        "    </tr>\n",
        "  </tbody>\n",
        "</table>"
       ],
       "metadata": {},
       "output_type": "pyout",
       "prompt_number": 9,
       "text": [
        "<IPython.core.display.HTML at 0x7a66b70>"
       ]
      }
     ],
     "prompt_number": 9
    },
    {
     "cell_type": "markdown",
     "metadata": {},
     "source": [
      "<center><span style=\"color: orange\"><b>Table 1</b>.  Current df21 with columns of X, Y plane coordinates.</span></center>"
     ]
    },
    {
     "cell_type": "markdown",
     "metadata": {},
     "source": [
      "-------\n",
      "Now, to have dipole vectors continue from one to another (as opposed to all starting at zero), we have to <em>transpose coordinates</em> in a way that the origin of new vector starts at the end of the previous vector (Python function <span style=\"color:magenta\">'cumsum'</span>).\n",
      "Let's try to build continuous vector graph from the original dataframe **df21** (vector decomposition). We will also set the coordinate system at the center of the vector polygon."
     ]
    },
    {
     "cell_type": "code",
     "collapsed": false,
     "input": [
      "# Test area running off the branch df2b1\n",
      "# Translate coordinates from xyz=0,0,0 to assure vector continuity\n",
      "df21['newXa'] = df21.newX.cumsum()\n",
      "df21['newYa'] = df21.newY.cumsum()\n",
      "df3 = df21\n",
      "\n",
      "# Calc geometrical center of the vector polygon\n",
      "cenX = df21['newXa'].mean()\n",
      "cenY = df21['newYa'].mean()\n",
      "\n",
      "#Translate the center to 0,0\n",
      "df3['newXa'] = df3['newXa'] - cenX\n",
      "df3['newYa'] = df3['newYa'] - cenY\n",
      "df3=df3.drop(['index'],axis=1)\n",
      "# Define translated [x,y] coordinates\n",
      "x = df3.newXa\n",
      "y = df3.newYa\n",
      "HTML(df3.to_html(classes = 'grid', escape=False))"
     ],
     "language": "python",
     "metadata": {},
     "outputs": [
      {
       "html": [
        "<table border=\"1\" class=\"dataframe grid\">\n",
        "  <thead>\n",
        "    <tr style=\"text-align: right;\">\n",
        "      <th></th>\n",
        "      <th>NLMO</th>\n",
        "      <th>Type</th>\n",
        "      <th>X</th>\n",
        "      <th>Y</th>\n",
        "      <th>Z</th>\n",
        "      <th>Tot_Dip</th>\n",
        "      <th>newX</th>\n",
        "      <th>newY</th>\n",
        "      <th>newXa</th>\n",
        "      <th>newYa</th>\n",
        "    </tr>\n",
        "  </thead>\n",
        "  <tbody>\n",
        "    <tr>\n",
        "      <th>0</th>\n",
        "      <td>  0</td>\n",
        "      <td>                       </td>\n",
        "      <td> 0.00</td>\n",
        "      <td> 0</td>\n",
        "      <td> 0.00</td>\n",
        "      <td> 0.00</td>\n",
        "      <td> 0.00</td>\n",
        "      <td> 0.00</td>\n",
        "      <td> 2.681</td>\n",
        "      <td> 3.161</td>\n",
        "    </tr>\n",
        "    <tr>\n",
        "      <th>1</th>\n",
        "      <td> 11</td>\n",
        "      <td> BD ($\\sigma$) C 2- O 3</td>\n",
        "      <td>-0.67</td>\n",
        "      <td> 0</td>\n",
        "      <td>-0.46</td>\n",
        "      <td> 0.81</td>\n",
        "      <td>-0.67</td>\n",
        "      <td>-0.46</td>\n",
        "      <td> 2.011</td>\n",
        "      <td> 2.701</td>\n",
        "    </tr>\n",
        "    <tr>\n",
        "      <th>2</th>\n",
        "      <td> 10</td>\n",
        "      <td>       BD ( 1) C 2- O 3</td>\n",
        "      <td>-1.90</td>\n",
        "      <td> 0</td>\n",
        "      <td>-1.44</td>\n",
        "      <td> 2.38</td>\n",
        "      <td>-1.90</td>\n",
        "      <td>-1.44</td>\n",
        "      <td> 0.111</td>\n",
        "      <td> 1.261</td>\n",
        "    </tr>\n",
        "    <tr>\n",
        "      <th>3</th>\n",
        "      <td>  5</td>\n",
        "      <td>             LP (n) O 3</td>\n",
        "      <td>-2.37</td>\n",
        "      <td> 0</td>\n",
        "      <td>-1.64</td>\n",
        "      <td> 2.88</td>\n",
        "      <td>-2.37</td>\n",
        "      <td>-1.64</td>\n",
        "      <td>-2.259</td>\n",
        "      <td>-0.379</td>\n",
        "    </tr>\n",
        "    <tr>\n",
        "      <th>4</th>\n",
        "      <td>  4</td>\n",
        "      <td>             LP (n) N 1</td>\n",
        "      <td>-0.20</td>\n",
        "      <td> 0</td>\n",
        "      <td>-1.64</td>\n",
        "      <td> 1.65</td>\n",
        "      <td>-0.20</td>\n",
        "      <td>-1.64</td>\n",
        "      <td>-2.459</td>\n",
        "      <td>-2.019</td>\n",
        "    </tr>\n",
        "    <tr>\n",
        "      <th>5</th>\n",
        "      <td>  6</td>\n",
        "      <td>       LP ($\\pi^y$) O 3</td>\n",
        "      <td> 0.89</td>\n",
        "      <td> 0</td>\n",
        "      <td> 0.75</td>\n",
        "      <td> 1.16</td>\n",
        "      <td> 0.89</td>\n",
        "      <td> 0.75</td>\n",
        "      <td>-1.569</td>\n",
        "      <td>-1.269</td>\n",
        "    </tr>\n",
        "    <tr>\n",
        "      <th>6</th>\n",
        "      <td> 12</td>\n",
        "      <td>       BD ( 1) C 2- H 6</td>\n",
        "      <td> 1.72</td>\n",
        "      <td> 0</td>\n",
        "      <td>-0.58</td>\n",
        "      <td> 1.82</td>\n",
        "      <td> 1.72</td>\n",
        "      <td>-0.58</td>\n",
        "      <td> 0.151</td>\n",
        "      <td>-1.849</td>\n",
        "    </tr>\n",
        "    <tr>\n",
        "      <th>7</th>\n",
        "      <td>  7</td>\n",
        "      <td>       BD ( 1) N 1- C 2</td>\n",
        "      <td> 0.02</td>\n",
        "      <td> 0</td>\n",
        "      <td> 0.85</td>\n",
        "      <td> 0.85</td>\n",
        "      <td> 0.02</td>\n",
        "      <td> 0.85</td>\n",
        "      <td> 0.171</td>\n",
        "      <td>-0.999</td>\n",
        "    </tr>\n",
        "    <tr>\n",
        "      <th>8</th>\n",
        "      <td>  9</td>\n",
        "      <td>       BD ( 1) N 1- H 5</td>\n",
        "      <td> 0.75</td>\n",
        "      <td> 0</td>\n",
        "      <td> 0.46</td>\n",
        "      <td> 0.88</td>\n",
        "      <td> 0.75</td>\n",
        "      <td> 0.46</td>\n",
        "      <td> 0.921</td>\n",
        "      <td>-0.539</td>\n",
        "    </tr>\n",
        "    <tr>\n",
        "      <th>9</th>\n",
        "      <td>  8</td>\n",
        "      <td>       BD ( 1) N 1- H 4</td>\n",
        "      <td>-0.68</td>\n",
        "      <td> 0</td>\n",
        "      <td> 0.47</td>\n",
        "      <td> 0.82</td>\n",
        "      <td>-0.68</td>\n",
        "      <td> 0.47</td>\n",
        "      <td> 0.241</td>\n",
        "      <td>-0.069</td>\n",
        "    </tr>\n",
        "  </tbody>\n",
        "</table>"
       ],
       "metadata": {},
       "output_type": "pyout",
       "prompt_number": 10,
       "text": [
        "<IPython.core.display.HTML at 0x7a669f0>"
       ]
      }
     ],
     "prompt_number": 10
    },
    {
     "cell_type": "markdown",
     "metadata": {},
     "source": [
      "<center><span style=\"color: orange\"><b>Table 2</b>.  Dataframe df3 with added columns newXa, newYa for new X, Y coordinates.</span></center>"
     ]
    },
    {
     "cell_type": "markdown",
     "metadata": {},
     "source": [
      "At any point, function <span style=\"color: magenta\">plot_dip (df, x, y)</span> will plot the current dataframe of the type shown in **Table 1** or **Table 2**."
     ]
    },
    {
     "cell_type": "code",
     "collapsed": false,
     "input": [
      "# Plot Table 2 (newXa, newYa)\n",
      "# Implements function plot_dip(df, X, Y). Function has to be in the same notebook directory.\n",
      "plot_dip(df3,'newXa','newYa')"
     ],
     "language": "python",
     "metadata": {},
     "outputs": [
      {
       "metadata": {},
       "output_type": "display_data",
       "png": "[encoded data removed]",
       "text": [
        "<matplotlib.figure.Figure at 0x648b430>"
       ]
      }
     ],
     "prompt_number": 11
    },
    {
     "cell_type": "markdown",
     "metadata": {},
     "source": [
      "------\n",
      "<span style=\"color:rgba(217,0,126,1)\">**The following two cells are optional and can be skipped**</span>. First cell \"flips\" the graph around the Y-axis, second cell rotates all points by angle theta to give a better visual representation.\n",
      "\n",
      "------"
     ]
    },
    {
     "cell_type": "code",
     "collapsed": false,
     "input": [
      "# Reflect around Y-axis (optional)\n",
      "df3['newXa'] = -df3['newXa']\n",
      "# Redefine [x,y] coordinates after coordinate reflection\n",
      "x = df3.newXa\n",
      "y = df3.newYa"
     ],
     "language": "python",
     "metadata": {},
     "outputs": [],
     "prompt_number": 12
    },
    {
     "cell_type": "code",
     "collapsed": false,
     "input": [
      "# Plot the above figure reflected around Y-axis\n",
      "plot_dip(df3,'newXa','newYa')"
     ],
     "language": "python",
     "metadata": {},
     "outputs": [
      {
       "metadata": {},
       "output_type": "display_data",
       "png": "[encoded data removed]",
       "text": [
        "<matplotlib.figure.Figure at 0x7abae90>"
       ]
      }
     ],
     "prompt_number": 13
    },
    {
     "cell_type": "markdown",
     "metadata": {},
     "source": [
      "_____\n",
      "\n",
      "Following cell will rotate the coordinate system counter clock-wise about the origin by the angle <i>theta</i>. Such rotation can be described by a rotation matrix **A**, which transforms the current x,y-coordinates into the new (rotated) x',y'-coordinates **(I)**. We will write a function \"rotatePolygon\" which implements algebraic form of the matrix product **(II)** shown below **(III)**. For details, see  [Wiki](http://www.wikiwand.com/en/Rotation_%28mathematics%29).\n",
      "\n",
      "\\begin{gather*}\n",
      "U' = A U   \\hspace{20 mm}{\\color{magenta}{(I)} }\\\\\n",
      "\\newline\n",
      "\\left[ \\begin{array}{c} x' \\\\ y' \\end{array} \\right] = \\begin{bmatrix} cos{\\theta} & -sin{\\theta} \\\\ sin{\\theta} & cos{\\theta} \\end{bmatrix}  \\left[ \\begin{array}{c} x \\\\ y \\end{array} \\right] \\hspace{10 mm}{\\color{magenta}{(II)} }\\\\\n",
      "\\end{gather*}\n",
      "\\begin{align*}\n",
      "\\\\\n",
      "x' = x\\cdot\\cos{\\theta} - y\\cdot\\sin{\\theta} \\hspace{20 mm}{\\color{magenta}{(III)} }\\\\\n",
      "y' = x\\cdot\\sin{\\theta} + y\\cdot\\cos{\\theta} \\hspace{20 mm}{\\color{white}{(....)} }\n",
      "\\end{align*}\n",
      "_____\n"
     ]
    },
    {
     "cell_type": "code",
     "collapsed": false,
     "input": [
      "# Optional cell - rotation of coordinates\n",
      "xhigh = x.max()\n",
      "# Identify row index for the largest X\n",
      "xmaxidx = df3['newXa'].argmax()\n",
      "# Get the corresponding Y\n",
      "Yxmax = df3.loc[xmaxidx,'newYa']\n",
      "\n",
      "# angle [0,0] ...  [0,Ymax] ...  [0,Xmax] in radians\n",
      "# Define the rotation angle\n",
      "angle = math.atan2(Yxmax,xhigh)\n",
      "# angle = math.tan(math.radians(-32.0)) # <- change degrees here\n",
      "print \"Degrees of rotation: %.1f\" % math.degrees(math.atan(angle))\n",
      "\n",
      "def rotatePolygon(polygon,theta):\n",
      "    \"\"\"\n",
      "    Rotates the given polygon, which consists of corners represented as (x,y),\n",
      "    around the ORIGIN [0,0], counter clock-wise by theta radians.\n",
      "    \n",
      "    :type polygon: dataframe column series, float\n",
      "    :param polygon: dataframe column series \n",
      "    :type theta:  radians, float\n",
      "    :param theta: angle\n",
      "  \n",
      "    :rtype: floats\n",
      "    :return: dataframe column series\n",
      "    \"\"\"\n",
      "    #theta = math.radians(theta)\n",
      "    rotatedPolygon = []\n",
      "    for corner in polygon :\n",
      "        rotatedPolygon.append(( corner[0]*math.cos(theta)-corner[1]*math.sin(theta) , corner[0]*math.sin(theta)+corner[1]*math.cos(theta)) )\n",
      "    return rotatedPolygon\n",
      "\n",
      "# Get coordinates of XY points into tupple\n",
      "my_polygon = zip(df3[\"newXa\"],df3[\"newYa\"])\n",
      "# Rotate XY point by an angle to place maxX on Y=0\n",
      "df4 = pd.DataFrame(rotatePolygon(my_polygon,-angle), columns=['Xrot', 'Yrot'])\n",
      "df3 = df3.join(df4, how='outer')\n",
      "# HTML(df3.to_html(classes = 'grid', escape=False))\n",
      "x = df3.Xrot\n",
      "y = df3.Yrot"
     ],
     "language": "python",
     "metadata": {},
     "outputs": [
      {
       "output_type": "stream",
       "stream": "stdout",
       "text": [
        "Degrees of rotation: -34.5\n"
       ]
      }
     ],
     "prompt_number": 14
    },
    {
     "cell_type": "markdown",
     "metadata": {},
     "source": [
      "With rotated coordinates, we proceed to the final step - plot. Since we might have skipped the reflection and rotation parts above, care must be taken of coordinate labels (addressed in the next cell)."
     ]
    },
    {
     "cell_type": "code",
     "collapsed": false,
     "input": [
      "if 'key_0' in df3.columns:\n",
      "    df3 = df3.drop(['key_0', 'index', 'X', 'Y', 'Z'], axis=1)\n",
      "\n",
      "# Important whe re-running cells or skipping the cells above\n",
      "if 'Xrot' in df3.columns:\n",
      "    pass\n",
      "else:\n",
      "    df3['Xrot'] = df3['newXa']\n",
      "    df3['Yrot'] = df3['newYa']\n",
      "\n",
      "# Calculate total dipole\n",
      "firstX = df3['Xrot'].iloc[0]\n",
      "lastX = df3.tail(1).Xrot  # row and value\n",
      "lastX = lastX.tolist()[0]  # value only\n",
      "firstY = df3['Yrot'].iloc[0]\n",
      "lastY = df3.tail(1).Yrot\n",
      "lastY = lastY.tolist()[0]\n",
      "total_dipole = sqrt(np.power(lastX-firstX, 2) + np.power(lastY-firstY, 2))\n",
      "total_dipole = round(total_dipole, 2)"
     ],
     "language": "python",
     "metadata": {},
     "outputs": [],
     "prompt_number": 15
    },
    {
     "cell_type": "code",
     "collapsed": false,
     "input": [
      "# Plot (essentially the plot_dip() function)\n",
      "# Set rectangular plot dimensions to keep lengths proportional\n",
      "xlow = x.min()\n",
      "xhigh = x.max()\n",
      "ylow = y.min()\n",
      "yhigh = y.max()\n",
      "\n",
      "\n",
      "def lst_sort(list):\n",
      "    \"\"\" \n",
      "    Sort list of floats by values.\n",
      "    \n",
      "    :type list: list of floats\n",
      "    :param list: max and min x,y-coordinates\n",
      "  \n",
      "    :rtype: list of floats\n",
      "    :return: sorted list of floats    \n",
      "    \"\"\"   \n",
      "    abslist = []\n",
      "    for item in list:\n",
      "        abslist.append(item)\n",
      "    return sorted(abslist)\n",
      "\n",
      "margins = lst_sort([xlow, ylow, xhigh, yhigh])\n",
      "\n",
      "# Now the plot code\n",
      "plt.figure()  # To generate multiple distinct plots.\n",
      "plt.suptitle('Dipole Moments (D)')\n",
      "ax = []\n",
      "# set length of x,y axes\n",
      "xmin = margins[0]-1\n",
      "xmax = margins[3]+1\n",
      "ymin = margins[0]-1\n",
      "ymax = margins[3]+1\n",
      "plt.ylabel('Y')\n",
      "plt.xlabel('X')\n",
      "plt.grid(True)\n",
      "plt.xlim(xmin,xmax)\n",
      "plt.ylim(ymin,ymax)\n",
      "color='blue'\n",
      "plt.scatter(df3.Xrot, df3.Yrot, s=80, c=color, label='NLMOs')\n",
      "for j, txt in enumerate(df3['NLMO']):\n",
      "    plt.annotate(txt, (x[j]-0.1,y[j]+0.2))\n",
      "ax = gca()\n",
      "ax.add_patch(FancyArrowPatch((firstX,firstY),(lastX,lastY),arrowstyle='->',mutation_scale=20, color='red'))\n",
      "for k in range(1,len(x)):\n",
      "    ax.add_patch(FancyArrowPatch((x[k], y[k]),(x[k-1],y[k-1]),arrowstyle='<-',mutation_scale=20, color='blue'))\n",
      "\n",
      "plt.annotate(total_dipole,\n",
      "             xy=((firstX-lastX)/2*0.9, (firstY-lastY)/2*0.7),\n",
      "             color='red',\n",
      "             xycoords='data',\n",
      "             textcoords='offset points')\n",
      "\n",
      "pic = basename + '.png'  \n",
      "try:\n",
      "    plt.savefig(pic, ext='png', format='png', dpi=100)\n",
      "except IOError:\n",
      "    print \"Error: can\\'t find the file or read data\""
     ],
     "language": "python",
     "metadata": {},
     "outputs": [
      {
       "metadata": {},
       "output_type": "display_data",
       "png": "[encoded data removed]",
       "text": [
        "<matplotlib.figure.Figure at 0x7a500b0>"
       ]
      }
     ],
     "prompt_number": 16
    },
    {
     "cell_type": "code",
     "collapsed": false,
     "input": [
      "print \"\\n\" +('-'*80)+\"\\n\"\n",
      "print \"> Image was saved in \" + path + \"\\\\\" + basename +\".csv file\""
     ],
     "language": "python",
     "metadata": {},
     "outputs": [
      {
       "output_type": "stream",
       "stream": "stdout",
       "text": [
        "\n",
        "--------------------------------------------------------------------------------\n",
        "\n",
        "> Image was saved in C:\\Users\\Rubidium\\Documents\\IPython Notebooks\\blog\\dipoles\\form_dip.csv file\n"
       ]
      }
     ],
     "prompt_number": 17
    },
    {
     "cell_type": "code",
     "collapsed": false,
     "input": [
      "# Clear data and runn again\n",
      "del df2\n",
      "del df21\n",
      "del df3\n",
      "del df4"
     ],
     "language": "python",
     "metadata": {},
     "outputs": [],
     "prompt_number": 18
    },
    {
     "cell_type": "markdown",
     "metadata": {},
     "source": [
      "_____\n",
      "\n",
      "<span style=\"font-size: 12px\"><i>iPython Notebook **Dipoles_seq.ipynb**:<br>\n",
      "version 1.0 created on Jan 10, 2015</i></span>"
     ]
    }
   ],
   "metadata": {}
  }
 ]
}